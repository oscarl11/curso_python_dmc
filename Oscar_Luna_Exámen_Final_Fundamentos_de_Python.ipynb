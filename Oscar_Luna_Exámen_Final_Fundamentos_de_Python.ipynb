{
  "nbformat": 4,
  "nbformat_minor": 0,
  "metadata": {
    "colab": {
      "name": "Oscar_Luna_Exámen_Final_Fundamentos_de_Python.ipynb",
      "provenance": [],
      "include_colab_link": true
    },
    "kernelspec": {
      "name": "python3",
      "display_name": "Python 3"
    }
  },
  "cells": [
    {
      "cell_type": "markdown",
      "metadata": {
        "id": "view-in-github",
        "colab_type": "text"
      },
      "source": [
        "<a href=\"https://colab.research.google.com/github/oscarl11/curso_python_dmc/blob/main/Oscar_Luna_Ex%C3%A1men_Final_Fundamentos_de_Python.ipynb\" target=\"_parent\"><img src=\"https://colab.research.google.com/assets/colab-badge.svg\" alt=\"Open In Colab\"/></a>"
      ]
    },
    {
      "cell_type": "code",
      "metadata": {
        "id": "njxRZIe2dvhU",
        "colab": {
          "base_uri": "https://localhost:8080/"
        },
        "outputId": "58704fc4-6ffb-427b-c043-a7d45056e29a"
      },
      "source": [
        "#Realizar un print con tu nombre completo\n",
        "print('Oscar Hernan Luna Silvera')"
      ],
      "execution_count": null,
      "outputs": [
        {
          "output_type": "stream",
          "text": [
            "Oscar Hernan Luna Silvera\n"
          ],
          "name": "stdout"
        }
      ]
    },
    {
      "cell_type": "markdown",
      "metadata": {
        "id": "8zvm6LxRaZ89"
      },
      "source": [
        "#Examen Final - Fundamentos de Python\n",
        "\n",
        "\n",
        "\n",
        "1.   Desarrollar el examen teórico https://www.questionpro.com/t/ARQPVZjyp0\n",
        "2.   Enviar los ejercicios de cada sesión.\n",
        "\n",
        "\n",
        "# **NOTA: Enviar la información hasta las 23:59 PM del 22/11/2020**\n",
        "Drive: https://drive.google.com/drive/folders/1Dny1t1c4qEy0MZ3_r9oOQjvL9TByoHVU?usp=sharing"
      ]
    },
    {
      "cell_type": "markdown",
      "metadata": {
        "id": "cs1R7XWJcN4l"
      },
      "source": [
        "### Laboratorio 01 \n",
        "\n",
        "* Busque un personaje publico de su preferencia en wikipedia\n",
        "* Haga un diccionario de la manera más simple.\n",
        "* Haga luego un diccionario usando donde se pueda otras estructuras (listas, tuplas, diccionarios)\n",
        "\n",
        "Referencia : https://github.com/juansalinasponce/course_python/blob/main/Sesion_02/Sesion02_FDP_Tipos_de_Datos.ipynb"
      ]
    },
    {
      "cell_type": "code",
      "metadata": {
        "id": "4D9n4EOUcfrj",
        "colab": {
          "base_uri": "https://localhost:8080/"
        },
        "outputId": "be975b9e-78dc-44d1-8484-7d51f5e5d7c0"
      },
      "source": [
        "#creando diccionario\n",
        "personaje = {'Nombres': \"Marcus Rashford\",'Edad':\"23\",'Club':\"Manchester United\",'Peso':\"70kg\",'Estatura':\"1.8m\",'Posicion':\"Delantero\",'Nacionalidad':\"Inglesa\",\n",
        "             'Dorsal':\"10\",'Nacimiento':\"31 de octubre de 1997\",'Goles':\"74\",'Temporadas':\"6\",\n",
        "             'Padres':\"Robert Rashford,Melanie Rashford\",'Hermanos':\"Dane Rashford,Dwaine Rashford\"}\n",
        "\n",
        "personaje"
      ],
      "execution_count": null,
      "outputs": [
        {
          "output_type": "execute_result",
          "data": {
            "text/plain": [
              "{'Club': 'Manchester United',\n",
              " 'Dorsal': '10',\n",
              " 'Edad': '23',\n",
              " 'Estatura': '1.8m',\n",
              " 'Goles': '74',\n",
              " 'Hermanos': 'Dane Rashford,Dwaine Rashford',\n",
              " 'Nacimiento': '31 de octubre de 1997',\n",
              " 'Nacionalidad': 'Inglesa',\n",
              " 'Nombres': 'Marcus Rashford',\n",
              " 'Padres': 'Robert Rashford,Melanie Rashford',\n",
              " 'Peso': '70kg',\n",
              " 'Posicion': 'Delantero',\n",
              " 'Temporadas': '6'}"
            ]
          },
          "metadata": {
            "tags": []
          },
          "execution_count": 8
        }
      ]
    },
    {
      "cell_type": "code",
      "metadata": {
        "id": "dVan9Rl60CfX"
      },
      "source": [
        "Padres =[\"Robert Rashford\",\"Melanie Rashford\"]\n",
        "Hermanos=[\"Dane Rashford\",\"Dwaine Rashford\"]"
      ],
      "execution_count": null,
      "outputs": []
    },
    {
      "cell_type": "code",
      "metadata": {
        "colab": {
          "base_uri": "https://localhost:8080/"
        },
        "id": "hHEeWHf-0IHt",
        "outputId": "8720b33d-2c27-482e-b5fa-c9d58d779d94"
      },
      "source": [
        "personaje = {'Nombres': \"Marcus Rashford\",'Edad':\"23\",'Club':\"Manchester United\",'Peso':\"70kg\",'Estatura':\"1.8m\",'Posicion':\"Delantero\",'Nacionalidad':\"Inglesa\",\n",
        "             'Dorsal':\"10\",'Nacimiento':\"31 de octubre de 1997\",'Goles':\"74\",'Temporadas':\"6\",\n",
        "             'Padres':Padres,'Hermanos':Hermanos}\n",
        "personaje"
      ],
      "execution_count": null,
      "outputs": [
        {
          "output_type": "execute_result",
          "data": {
            "text/plain": [
              "{'Club': 'Manchester United',\n",
              " 'Dorsal': '10',\n",
              " 'Edad': '23',\n",
              " 'Estatura': '1.8m',\n",
              " 'Goles': '74',\n",
              " 'Hermanos': ['Dane Rashford', 'Dwaine Rashford'],\n",
              " 'Nacimiento': '31 de octubre de 1997',\n",
              " 'Nacionalidad': 'Inglesa',\n",
              " 'Nombres': 'Marcus Rashford',\n",
              " 'Padres': ['Robert Rashford', 'Melanie Rashford'],\n",
              " 'Peso': '70kg',\n",
              " 'Posicion': 'Delantero',\n",
              " 'Temporadas': '6'}"
            ]
          },
          "metadata": {
            "tags": []
          },
          "execution_count": 10
        }
      ]
    },
    {
      "cell_type": "markdown",
      "metadata": {
        "id": "WFRDELOecjJu"
      },
      "source": [
        "### Laboratorio 02\n",
        "\n",
        "Escribir un programa que reciba el siguiente texto y muestre:\n",
        "* Cantidad de palabras distintas\n",
        "* Frecuencia de cada palabra encontrada\n",
        "\n",
        "`Un texto narrativo es aquel texto que cuenta una historia que se desarrolla en un período de tiempo y un lugar determinado. La narración hace referencia a la manera de contar la historia, en forma de secuencia o como una serie de acciones que realizan los personajes, y que permite al lector imaginarse la situación.`\n",
        "\n",
        "Referencia: https://github.com/juansalinasponce/course_python/blob/main/Sesion_04/Sesi%C3%B3n04_FDP_OG7_Fechas_String.ipynb"
      ]
    },
    {
      "cell_type": "code",
      "metadata": {
        "id": "TInRFIOBdpn6"
      },
      "source": [
        "Narracion = 'Un texto narrativo es aquel texto que cuenta una historia que se desarrolla en un período de tiempo y un lugar determinado. La narración hace referencia a la manera de contar la historia, en forma de secuencia o como una serie de acciones que realizan los personajes, y que permite al lector imaginarse la situación.'"
      ],
      "execution_count": null,
      "outputs": []
    },
    {
      "cell_type": "code",
      "metadata": {
        "colab": {
          "base_uri": "https://localhost:8080/"
        },
        "id": "QsXpUHMG2GqM",
        "outputId": "59e01ccd-45c1-4419-a047-1e87e0a0ae02"
      },
      "source": [
        "listaPalabras = Narracion.split()\n",
        "\n",
        "frecuenciaPalabra = []\n",
        "for palabra in listaPalabras:\n",
        "    frecuenciaPalabra.append(listaPalabras.count(palabra))\n",
        "\n",
        "print(\"Cadena\\n\" + Narracion +\"\\n\")\n",
        "print(\"Lista\\n\" + str(listaPalabras) + \"\\n\")\n",
        "print(\"Frecuencias\\n\" + str(frecuenciaPalabra) + \"\\n\")\n",
        "print(\"Pares\\n\" + str(list(zip(listaPalabras, frecuenciaPalabra))))"
      ],
      "execution_count": null,
      "outputs": [
        {
          "output_type": "stream",
          "text": [
            "Cadena\n",
            "Un texto narrativo es aquel texto que cuenta una historia que se desarrolla en un período de tiempo y un lugar determinado. La narración hace referencia a la manera de contar la historia, en forma de secuencia o como una serie de acciones que realizan los personajes, y que permite al lector imaginarse la situación.\n",
            "\n",
            "Lista\n",
            "['Un', 'texto', 'narrativo', 'es', 'aquel', 'texto', 'que', 'cuenta', 'una', 'historia', 'que', 'se', 'desarrolla', 'en', 'un', 'período', 'de', 'tiempo', 'y', 'un', 'lugar', 'determinado.', 'La', 'narración', 'hace', 'referencia', 'a', 'la', 'manera', 'de', 'contar', 'la', 'historia,', 'en', 'forma', 'de', 'secuencia', 'o', 'como', 'una', 'serie', 'de', 'acciones', 'que', 'realizan', 'los', 'personajes,', 'y', 'que', 'permite', 'al', 'lector', 'imaginarse', 'la', 'situación.']\n",
            "\n",
            "Frecuencias\n",
            "[1, 2, 1, 1, 1, 2, 4, 1, 2, 1, 4, 1, 1, 2, 2, 1, 4, 1, 2, 2, 1, 1, 1, 1, 1, 1, 1, 3, 1, 4, 1, 3, 1, 2, 1, 4, 1, 1, 1, 2, 1, 4, 1, 4, 1, 1, 1, 2, 4, 1, 1, 1, 1, 3, 1]\n",
            "\n",
            "Pares\n",
            "[('Un', 1), ('texto', 2), ('narrativo', 1), ('es', 1), ('aquel', 1), ('texto', 2), ('que', 4), ('cuenta', 1), ('una', 2), ('historia', 1), ('que', 4), ('se', 1), ('desarrolla', 1), ('en', 2), ('un', 2), ('período', 1), ('de', 4), ('tiempo', 1), ('y', 2), ('un', 2), ('lugar', 1), ('determinado.', 1), ('La', 1), ('narración', 1), ('hace', 1), ('referencia', 1), ('a', 1), ('la', 3), ('manera', 1), ('de', 4), ('contar', 1), ('la', 3), ('historia,', 1), ('en', 2), ('forma', 1), ('de', 4), ('secuencia', 1), ('o', 1), ('como', 1), ('una', 2), ('serie', 1), ('de', 4), ('acciones', 1), ('que', 4), ('realizan', 1), ('los', 1), ('personajes,', 1), ('y', 2), ('que', 4), ('permite', 1), ('al', 1), ('lector', 1), ('imaginarse', 1), ('la', 3), ('situación.', 1)]\n"
          ],
          "name": "stdout"
        }
      ]
    },
    {
      "cell_type": "markdown",
      "metadata": {
        "id": "n44cHsbseD1G"
      },
      "source": [
        "### Laboratorio 03\n",
        "\n",
        "Considere el siguiente diccionario data y lista de index\n",
        "\n",
        "a. Crea un DataFrame a partir del diccionario y los índices.\n",
        "\n",
        "b. Selecciona las columnas animaly age.\n",
        "\n",
        "c. Indique cuantos tipos distintos de animales hay.\n",
        "\n",
        "d. Indique cuantos animales hay de cada tipo.\n",
        "\n",
        "e. Muestre un resumen estadístico de todas las variables.\n"
      ]
    },
    {
      "cell_type": "code",
      "metadata": {
        "id": "oKJXKf47ebZv"
      },
      "source": [
        "#Desarrolle su código\n",
        "data = {'animal': ['cat', 'cat', 'snake', 'dog', 'dog', 'cat', 'snake', 'cat', 'dog', 'dog'],\n",
        "        'age': [2.5, 3, 0.5, np.nan, 5, 2, 4.5, np.nan, 7, 3],\n",
        "        'visits': [1, 3, 2, 3, 2, 3, 1, 1, 2, 1],\n",
        "        'priority': ['yes', 'yes', 'no', 'yes', 'no', 'no', 'no', 'yes', 'no', 'no']}\n",
        "\n",
        "labels = ['a', 'b', 'c', 'd', 'e', 'f', 'g', 'h', 'i', 'j']"
      ],
      "execution_count": null,
      "outputs": []
    },
    {
      "cell_type": "code",
      "metadata": {
        "id": "of_yXKgh4xyM"
      },
      "source": [
        "import pandas as pd\n",
        "import numpy as np\n",
        "import matplotlib.pyplot as plt"
      ],
      "execution_count": null,
      "outputs": []
    },
    {
      "cell_type": "code",
      "metadata": {
        "colab": {
          "base_uri": "https://localhost:8080/",
          "height": 343
        },
        "id": "yTpHgBO15QOC",
        "outputId": "2573021c-28b8-4494-fdea-d1b14f3872d4"
      },
      "source": [
        "#a\n",
        "datos = pd.DataFrame(data,index=labels)\n",
        "datos"
      ],
      "execution_count": null,
      "outputs": [
        {
          "output_type": "execute_result",
          "data": {
            "text/html": [
              "<div>\n",
              "<style scoped>\n",
              "    .dataframe tbody tr th:only-of-type {\n",
              "        vertical-align: middle;\n",
              "    }\n",
              "\n",
              "    .dataframe tbody tr th {\n",
              "        vertical-align: top;\n",
              "    }\n",
              "\n",
              "    .dataframe thead th {\n",
              "        text-align: right;\n",
              "    }\n",
              "</style>\n",
              "<table border=\"1\" class=\"dataframe\">\n",
              "  <thead>\n",
              "    <tr style=\"text-align: right;\">\n",
              "      <th></th>\n",
              "      <th>animal</th>\n",
              "      <th>age</th>\n",
              "      <th>visits</th>\n",
              "      <th>priority</th>\n",
              "    </tr>\n",
              "  </thead>\n",
              "  <tbody>\n",
              "    <tr>\n",
              "      <th>a</th>\n",
              "      <td>cat</td>\n",
              "      <td>2.5</td>\n",
              "      <td>1</td>\n",
              "      <td>yes</td>\n",
              "    </tr>\n",
              "    <tr>\n",
              "      <th>b</th>\n",
              "      <td>cat</td>\n",
              "      <td>3.0</td>\n",
              "      <td>3</td>\n",
              "      <td>yes</td>\n",
              "    </tr>\n",
              "    <tr>\n",
              "      <th>c</th>\n",
              "      <td>snake</td>\n",
              "      <td>0.5</td>\n",
              "      <td>2</td>\n",
              "      <td>no</td>\n",
              "    </tr>\n",
              "    <tr>\n",
              "      <th>d</th>\n",
              "      <td>dog</td>\n",
              "      <td>NaN</td>\n",
              "      <td>3</td>\n",
              "      <td>yes</td>\n",
              "    </tr>\n",
              "    <tr>\n",
              "      <th>e</th>\n",
              "      <td>dog</td>\n",
              "      <td>5.0</td>\n",
              "      <td>2</td>\n",
              "      <td>no</td>\n",
              "    </tr>\n",
              "    <tr>\n",
              "      <th>f</th>\n",
              "      <td>cat</td>\n",
              "      <td>2.0</td>\n",
              "      <td>3</td>\n",
              "      <td>no</td>\n",
              "    </tr>\n",
              "    <tr>\n",
              "      <th>g</th>\n",
              "      <td>snake</td>\n",
              "      <td>4.5</td>\n",
              "      <td>1</td>\n",
              "      <td>no</td>\n",
              "    </tr>\n",
              "    <tr>\n",
              "      <th>h</th>\n",
              "      <td>cat</td>\n",
              "      <td>NaN</td>\n",
              "      <td>1</td>\n",
              "      <td>yes</td>\n",
              "    </tr>\n",
              "    <tr>\n",
              "      <th>i</th>\n",
              "      <td>dog</td>\n",
              "      <td>7.0</td>\n",
              "      <td>2</td>\n",
              "      <td>no</td>\n",
              "    </tr>\n",
              "    <tr>\n",
              "      <th>j</th>\n",
              "      <td>dog</td>\n",
              "      <td>3.0</td>\n",
              "      <td>1</td>\n",
              "      <td>no</td>\n",
              "    </tr>\n",
              "  </tbody>\n",
              "</table>\n",
              "</div>"
            ],
            "text/plain": [
              "  animal  age  visits priority\n",
              "a    cat  2.5       1      yes\n",
              "b    cat  3.0       3      yes\n",
              "c  snake  0.5       2       no\n",
              "d    dog  NaN       3      yes\n",
              "e    dog  5.0       2       no\n",
              "f    cat  2.0       3       no\n",
              "g  snake  4.5       1       no\n",
              "h    cat  NaN       1      yes\n",
              "i    dog  7.0       2       no\n",
              "j    dog  3.0       1       no"
            ]
          },
          "metadata": {
            "tags": []
          },
          "execution_count": 21
        }
      ]
    },
    {
      "cell_type": "code",
      "metadata": {
        "colab": {
          "base_uri": "https://localhost:8080/",
          "height": 343
        },
        "id": "wRRWu6SVNoqs",
        "outputId": "8b118bce-ae03-4ca9-97cd-c3e0428d327f"
      },
      "source": [
        "#b\n",
        "columnas =datos[['animal','age']]\n",
        "columnas\n"
      ],
      "execution_count": null,
      "outputs": [
        {
          "output_type": "execute_result",
          "data": {
            "text/html": [
              "<div>\n",
              "<style scoped>\n",
              "    .dataframe tbody tr th:only-of-type {\n",
              "        vertical-align: middle;\n",
              "    }\n",
              "\n",
              "    .dataframe tbody tr th {\n",
              "        vertical-align: top;\n",
              "    }\n",
              "\n",
              "    .dataframe thead th {\n",
              "        text-align: right;\n",
              "    }\n",
              "</style>\n",
              "<table border=\"1\" class=\"dataframe\">\n",
              "  <thead>\n",
              "    <tr style=\"text-align: right;\">\n",
              "      <th></th>\n",
              "      <th>animal</th>\n",
              "      <th>age</th>\n",
              "    </tr>\n",
              "  </thead>\n",
              "  <tbody>\n",
              "    <tr>\n",
              "      <th>a</th>\n",
              "      <td>cat</td>\n",
              "      <td>2.5</td>\n",
              "    </tr>\n",
              "    <tr>\n",
              "      <th>b</th>\n",
              "      <td>cat</td>\n",
              "      <td>3.0</td>\n",
              "    </tr>\n",
              "    <tr>\n",
              "      <th>c</th>\n",
              "      <td>snake</td>\n",
              "      <td>0.5</td>\n",
              "    </tr>\n",
              "    <tr>\n",
              "      <th>d</th>\n",
              "      <td>dog</td>\n",
              "      <td>NaN</td>\n",
              "    </tr>\n",
              "    <tr>\n",
              "      <th>e</th>\n",
              "      <td>dog</td>\n",
              "      <td>5.0</td>\n",
              "    </tr>\n",
              "    <tr>\n",
              "      <th>f</th>\n",
              "      <td>cat</td>\n",
              "      <td>2.0</td>\n",
              "    </tr>\n",
              "    <tr>\n",
              "      <th>g</th>\n",
              "      <td>snake</td>\n",
              "      <td>4.5</td>\n",
              "    </tr>\n",
              "    <tr>\n",
              "      <th>h</th>\n",
              "      <td>cat</td>\n",
              "      <td>NaN</td>\n",
              "    </tr>\n",
              "    <tr>\n",
              "      <th>i</th>\n",
              "      <td>dog</td>\n",
              "      <td>7.0</td>\n",
              "    </tr>\n",
              "    <tr>\n",
              "      <th>j</th>\n",
              "      <td>dog</td>\n",
              "      <td>3.0</td>\n",
              "    </tr>\n",
              "  </tbody>\n",
              "</table>\n",
              "</div>"
            ],
            "text/plain": [
              "  animal  age\n",
              "a    cat  2.5\n",
              "b    cat  3.0\n",
              "c  snake  0.5\n",
              "d    dog  NaN\n",
              "e    dog  5.0\n",
              "f    cat  2.0\n",
              "g  snake  4.5\n",
              "h    cat  NaN\n",
              "i    dog  7.0\n",
              "j    dog  3.0"
            ]
          },
          "metadata": {
            "tags": []
          },
          "execution_count": 26
        }
      ]
    },
    {
      "cell_type": "code",
      "metadata": {
        "colab": {
          "base_uri": "https://localhost:8080/"
        },
        "id": "nFt5D94mOlTc",
        "outputId": "82cf8277-d522-4449-f187-6bff46a183b1"
      },
      "source": [
        "#c\n",
        "datos.nunique(axis=0)\n"
      ],
      "execution_count": null,
      "outputs": [
        {
          "output_type": "execute_result",
          "data": {
            "text/plain": [
              "animal      3\n",
              "age         7\n",
              "visits      3\n",
              "priority    2\n",
              "dtype: int64"
            ]
          },
          "metadata": {
            "tags": []
          },
          "execution_count": 37
        }
      ]
    },
    {
      "cell_type": "code",
      "metadata": {
        "colab": {
          "base_uri": "https://localhost:8080/"
        },
        "id": "ZaqbfrtJP-iS",
        "outputId": "dd734b6a-98d9-4500-c8f4-7c797c2ffb19"
      },
      "source": [
        "#d\n",
        "datos['animal'].value_counts()"
      ],
      "execution_count": null,
      "outputs": [
        {
          "output_type": "execute_result",
          "data": {
            "text/plain": [
              "cat      4\n",
              "dog      4\n",
              "snake    2\n",
              "Name: animal, dtype: int64"
            ]
          },
          "metadata": {
            "tags": []
          },
          "execution_count": 44
        }
      ]
    },
    {
      "cell_type": "code",
      "metadata": {
        "colab": {
          "base_uri": "https://localhost:8080/",
          "height": 373
        },
        "id": "q5rUD23dST51",
        "outputId": "e3f08bfa-f4fc-454b-8317-a79363dd3a50"
      },
      "source": [
        "#e\n",
        "datos.describe(include='all')"
      ],
      "execution_count": null,
      "outputs": [
        {
          "output_type": "execute_result",
          "data": {
            "text/html": [
              "<div>\n",
              "<style scoped>\n",
              "    .dataframe tbody tr th:only-of-type {\n",
              "        vertical-align: middle;\n",
              "    }\n",
              "\n",
              "    .dataframe tbody tr th {\n",
              "        vertical-align: top;\n",
              "    }\n",
              "\n",
              "    .dataframe thead th {\n",
              "        text-align: right;\n",
              "    }\n",
              "</style>\n",
              "<table border=\"1\" class=\"dataframe\">\n",
              "  <thead>\n",
              "    <tr style=\"text-align: right;\">\n",
              "      <th></th>\n",
              "      <th>animal</th>\n",
              "      <th>age</th>\n",
              "      <th>visits</th>\n",
              "      <th>priority</th>\n",
              "    </tr>\n",
              "  </thead>\n",
              "  <tbody>\n",
              "    <tr>\n",
              "      <th>count</th>\n",
              "      <td>10</td>\n",
              "      <td>8.000000</td>\n",
              "      <td>10.000000</td>\n",
              "      <td>10</td>\n",
              "    </tr>\n",
              "    <tr>\n",
              "      <th>unique</th>\n",
              "      <td>3</td>\n",
              "      <td>NaN</td>\n",
              "      <td>NaN</td>\n",
              "      <td>2</td>\n",
              "    </tr>\n",
              "    <tr>\n",
              "      <th>top</th>\n",
              "      <td>cat</td>\n",
              "      <td>NaN</td>\n",
              "      <td>NaN</td>\n",
              "      <td>no</td>\n",
              "    </tr>\n",
              "    <tr>\n",
              "      <th>freq</th>\n",
              "      <td>4</td>\n",
              "      <td>NaN</td>\n",
              "      <td>NaN</td>\n",
              "      <td>6</td>\n",
              "    </tr>\n",
              "    <tr>\n",
              "      <th>mean</th>\n",
              "      <td>NaN</td>\n",
              "      <td>3.437500</td>\n",
              "      <td>1.900000</td>\n",
              "      <td>NaN</td>\n",
              "    </tr>\n",
              "    <tr>\n",
              "      <th>std</th>\n",
              "      <td>NaN</td>\n",
              "      <td>2.007797</td>\n",
              "      <td>0.875595</td>\n",
              "      <td>NaN</td>\n",
              "    </tr>\n",
              "    <tr>\n",
              "      <th>min</th>\n",
              "      <td>NaN</td>\n",
              "      <td>0.500000</td>\n",
              "      <td>1.000000</td>\n",
              "      <td>NaN</td>\n",
              "    </tr>\n",
              "    <tr>\n",
              "      <th>25%</th>\n",
              "      <td>NaN</td>\n",
              "      <td>2.375000</td>\n",
              "      <td>1.000000</td>\n",
              "      <td>NaN</td>\n",
              "    </tr>\n",
              "    <tr>\n",
              "      <th>50%</th>\n",
              "      <td>NaN</td>\n",
              "      <td>3.000000</td>\n",
              "      <td>2.000000</td>\n",
              "      <td>NaN</td>\n",
              "    </tr>\n",
              "    <tr>\n",
              "      <th>75%</th>\n",
              "      <td>NaN</td>\n",
              "      <td>4.625000</td>\n",
              "      <td>2.750000</td>\n",
              "      <td>NaN</td>\n",
              "    </tr>\n",
              "    <tr>\n",
              "      <th>max</th>\n",
              "      <td>NaN</td>\n",
              "      <td>7.000000</td>\n",
              "      <td>3.000000</td>\n",
              "      <td>NaN</td>\n",
              "    </tr>\n",
              "  </tbody>\n",
              "</table>\n",
              "</div>"
            ],
            "text/plain": [
              "       animal       age     visits priority\n",
              "count      10  8.000000  10.000000       10\n",
              "unique      3       NaN        NaN        2\n",
              "top       cat       NaN        NaN       no\n",
              "freq        4       NaN        NaN        6\n",
              "mean      NaN  3.437500   1.900000      NaN\n",
              "std       NaN  2.007797   0.875595      NaN\n",
              "min       NaN  0.500000   1.000000      NaN\n",
              "25%       NaN  2.375000   1.000000      NaN\n",
              "50%       NaN  3.000000   2.000000      NaN\n",
              "75%       NaN  4.625000   2.750000      NaN\n",
              "max       NaN  7.000000   3.000000      NaN"
            ]
          },
          "metadata": {
            "tags": []
          },
          "execution_count": 39
        }
      ]
    }
  ]
}