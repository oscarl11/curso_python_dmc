{
  "nbformat": 4,
  "nbformat_minor": 0,
  "metadata": {
    "colab": {
      "name": "Sesion02-Cursopython.ipynb",
      "provenance": [],
      "authorship_tag": "ABX9TyN+mUZHFWt4cCAg4N1d1SIJ",
      "include_colab_link": true
    },
    "kernelspec": {
      "name": "python3",
      "display_name": "Python 3"
    }
  },
  "cells": [
    {
      "cell_type": "markdown",
      "metadata": {
        "id": "view-in-github",
        "colab_type": "text"
      },
      "source": [
        "<a href=\"https://colab.research.google.com/github/oscarl11/curso_python_dmc/blob/main/Sesion02_Cursopython.ipynb\" target=\"_parent\"><img src=\"https://colab.research.google.com/assets/colab-badge.svg\" alt=\"Open In Colab\"/></a>"
      ]
    },
    {
      "cell_type": "code",
      "metadata": {
        "id": "ZkA6yoi9wtIS",
        "outputId": "a4d86ea6-e4a7-4c80-e3ab-7dba6bdfdc2e",
        "colab": {
          "base_uri": "https://localhost:8080/"
        }
      },
      "source": [
        "#variable\n",
        "x = 8\n",
        "print(x)\n",
        "x=9\n",
        "print(x)\n",
        "print(type(x))\n",
        "y=\"Oscar\"\n",
        "print(y)\n",
        "print(type(y))"
      ],
      "execution_count": 4,
      "outputs": [
        {
          "output_type": "stream",
          "text": [
            "8\n",
            "9\n",
            "<class 'int'>\n",
            "Oscar\n",
            "<class 'str'>\n"
          ],
          "name": "stdout"
        }
      ]
    },
    {
      "cell_type": "code",
      "metadata": {
        "id": "dUj0jpc04Hvl",
        "outputId": "00d126c2-c7d7-425c-923a-c827c36a40df",
        "colab": {
          "base_uri": "https://localhost:8080/"
        }
      },
      "source": [
        "Nombres = \"Oscar Hernan\"\n",
        "Apellidos = \"Luna Silvera\"\n",
        "edad =24\n",
        "print (\"tu nombre es:\",Nombres + \" \" +Apellidos, \"Tu edad es:\",edad) "
      ],
      "execution_count": 8,
      "outputs": [
        {
          "output_type": "stream",
          "text": [
            "tu nombre es: Oscar Hernan Luna Silvera Tu edad es: 24\n"
          ],
          "name": "stdout"
        }
      ]
    },
    {
      "cell_type": "code",
      "metadata": {
        "id": "9GVkS1kH5UUZ",
        "outputId": "d74dbcd2-227b-4878-8393-472fa7ff00a7",
        "colab": {
          "base_uri": "https://localhost:8080/"
        }
      },
      "source": [
        "b1=\"True\"\n",
        "b2=True\n",
        "b3=False\n",
        "print(type(b1))\n",
        "print(type(b2))\n",
        "print(type(b3))\n"
      ],
      "execution_count": 11,
      "outputs": [
        {
          "output_type": "stream",
          "text": [
            "<class 'str'>\n",
            "<class 'bool'>\n",
            "<class 'bool'>\n"
          ],
          "name": "stdout"
        }
      ]
    },
    {
      "cell_type": "code",
      "metadata": {
        "id": "QfohoSC86qQu",
        "outputId": "6f1e4e5b-375a-43bd-d455-c21f9635d3ac",
        "colab": {
          "base_uri": "https://localhost:8080/"
        }
      },
      "source": [
        "num_entero= 8\n",
        "num_negativo = -200\n",
        "num_decimal= 4.5\n",
        "num_real= 2.5e-07\n",
        "num_complejo = 4.2 + 7j\n",
        "num_binario = 0b111\n",
        "num_octal = 0o10\n",
        "print(type(num_entero))\n",
        "print(type(num_negativo))\n",
        "print(type(num_decimal))\n",
        "print(type(num_real))\n",
        "print(type(num_complejo))\n",
        "print(type(num_binario))\n",
        "print(num_binario)\n",
        "print(type(num_octal))\n",
        "print(num_octal)"
      ],
      "execution_count": 17,
      "outputs": [
        {
          "output_type": "stream",
          "text": [
            "<class 'int'>\n",
            "<class 'int'>\n",
            "<class 'float'>\n",
            "<class 'float'>\n",
            "<class 'complex'>\n",
            "<class 'int'>\n",
            "7\n",
            "<class 'int'>\n",
            "8\n"
          ],
          "name": "stdout"
        }
      ]
    },
    {
      "cell_type": "code",
      "metadata": {
        "id": "XsqMg-b0-Ji0",
        "outputId": "e27dc8b4-1b90-443b-9b77-dfd3ae8d1a93",
        "colab": {
          "base_uri": "https://localhost:8080/"
        }
      },
      "source": [
        "lat = bytearray(\"España\", \"latin1\")\n",
        "print(lat)"
      ],
      "execution_count": 19,
      "outputs": [
        {
          "output_type": "stream",
          "text": [
            "bytearray(b'Espa\\xf1a')\n"
          ],
          "name": "stdout"
        }
      ]
    },
    {
      "cell_type": "code",
      "metadata": {
        "id": "gZOT1CTG8jhl",
        "outputId": "89723ab3-8dd9-4f6f-f2c5-0259d3afbe7b",
        "colab": {
          "base_uri": "https://localhost:8080/"
        }
      },
      "source": [
        "cadena = \"esto es una cadena de texto\"\n",
        "print(type(cadena))\n",
        "print(cadena)"
      ],
      "execution_count": 18,
      "outputs": [
        {
          "output_type": "stream",
          "text": [
            "<class 'str'>\n",
            "esto es una cadena de texto\n"
          ],
          "name": "stdout"
        }
      ]
    },
    {
      "cell_type": "code",
      "metadata": {
        "id": "WzY4LAeH-fwG",
        "outputId": "0b7ab17c-63f1-410c-ca69-fa7487d46ebd",
        "colab": {
          "base_uri": "https://localhost:8080/"
        }
      },
      "source": [
        "str = \"España\"\n",
        "array1 = bytearray(str, 'utf-8') \n",
        "print(array1)"
      ],
      "execution_count": 20,
      "outputs": [
        {
          "output_type": "stream",
          "text": [
            "bytearray(b'Espa\\xc3\\xb1a')\n"
          ],
          "name": "stdout"
        }
      ]
    },
    {
      "cell_type": "code",
      "metadata": {
        "id": "Bjxvz9gWBDKI",
        "outputId": "b23f48ec-e94d-483a-b78f-20dad29603c0",
        "colab": {
          "base_uri": "https://localhost:8080/"
        }
      },
      "source": [
        "Estudiante = []\n",
        "Estudiante = [\"Oscar Luna\",24,False,\"masculino\",\"horario1\"]\n",
        "print(Estudiante [0])\n",
        "print(Estudiante [1])\n",
        "print(Estudiante [2])\n",
        "#último elemento de la lista\n",
        "print(Estudiante [-1])\n",
        "# elementos de una lista hasta la posición 2\n",
        "print(Estudiante [:2])\n",
        "#elementos de una lista desde la posición 1 hasta la 4\n",
        "print(Estudiante [1:4])"
      ],
      "execution_count": 26,
      "outputs": [
        {
          "output_type": "stream",
          "text": [
            "Oscar Luna\n",
            "24\n",
            "False\n",
            "horario1\n",
            "['Oscar Luna', 24]\n",
            "[24, False, 'masculino']\n"
          ],
          "name": "stdout"
        }
      ]
    }
  ]
}