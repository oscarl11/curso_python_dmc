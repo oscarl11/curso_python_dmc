{
  "nbformat": 4,
  "nbformat_minor": 0,
  "metadata": {
    "colab": {
      "name": "Sesion6_Fund_prog_pythonipynb",
      "provenance": [],
      "authorship_tag": "ABX9TyMwZRbfS65CK8DvSnb7RRN4",
      "include_colab_link": true
    },
    "kernelspec": {
      "name": "python3",
      "display_name": "Python 3"
    }
  },
  "cells": [
    {
      "cell_type": "markdown",
      "metadata": {
        "id": "view-in-github",
        "colab_type": "text"
      },
      "source": [
        "<a href=\"https://colab.research.google.com/github/oscarl11/curso_python_dmc/blob/main/Sesion6_Fund_prog_pythonipynb.ipynb\" target=\"_parent\"><img src=\"https://colab.research.google.com/assets/colab-badge.svg\" alt=\"Open In Colab\"/></a>"
      ]
    },
    {
      "cell_type": "code",
      "metadata": {
        "id": "YRlXrlCRuAG6"
      },
      "source": [
        "import pandas as pd\n",
        "import numpy as np\n",
        "import matplotlib.pyplot as plt"
      ],
      "execution_count": 1,
      "outputs": []
    },
    {
      "cell_type": "code",
      "metadata": {
        "id": "GbJG-meOg1Bk"
      },
      "source": [
        ""
      ],
      "execution_count": null,
      "outputs": []
    },
    {
      "cell_type": "code",
      "metadata": {
        "colab": {
          "base_uri": "https://localhost:8080/"
        },
        "id": "y_rh9oYcxjoh",
        "outputId": "5283ac2e-945e-45e0-e1a7-697edf3df25f"
      },
      "source": [
        "serie = pd.Series([1979, 1980, 1981, 1982])\n",
        "serie"
      ],
      "execution_count": 16,
      "outputs": [
        {
          "output_type": "execute_result",
          "data": {
            "text/plain": [
              "0    1979\n",
              "1    1980\n",
              "2    1981\n",
              "3    1982\n",
              "dtype: int64"
            ]
          },
          "metadata": {
            "tags": []
          },
          "execution_count": 16
        }
      ]
    },
    {
      "cell_type": "code",
      "metadata": {
        "colab": {
          "base_uri": "https://localhost:8080/"
        },
        "id": "5ZxBjwE5yVnN",
        "outputId": "44f3536b-b3dd-443b-a1d7-e1421e835c26"
      },
      "source": [
        "serie = pd.Series(data=[1979, 1980, 1981, 1982, 1983],\n",
        "                  index=['carolina', 'martha', 'nicky', 'theresa', 'nicky'])\n",
        "serie"
      ],
      "execution_count": 3,
      "outputs": [
        {
          "output_type": "execute_result",
          "data": {
            "text/plain": [
              "carolina    1979\n",
              "martha      1980\n",
              "nicky       1981\n",
              "theresa     1982\n",
              "nicky       1983\n",
              "dtype: int64"
            ]
          },
          "metadata": {
            "tags": []
          },
          "execution_count": 3
        }
      ]
    },
    {
      "cell_type": "code",
      "metadata": {
        "colab": {
          "base_uri": "https://localhost:8080/"
        },
        "id": "aaISAbHRy9wM",
        "outputId": "0e499477-111d-41aa-81a4-5dd8cd2f40b2"
      },
      "source": [
        "serie_pokemon = pd.read_csv('pokemon.csv', squeeze=True, usecols=['Name'])\n",
        "serie_pokemon"
      ],
      "execution_count": 5,
      "outputs": [
        {
          "output_type": "execute_result",
          "data": {
            "text/plain": [
              "0           Bulbasaur\n",
              "1             Ivysaur\n",
              "2            Venusaur\n",
              "3       Mega Venusaur\n",
              "4          Charmander\n",
              "            ...      \n",
              "795           Diancie\n",
              "796      Mega Diancie\n",
              "797    Hoopa Confined\n",
              "798     Hoopa Unbound\n",
              "799         Volcanion\n",
              "Name: Name, Length: 800, dtype: object"
            ]
          },
          "metadata": {
            "tags": []
          },
          "execution_count": 5
        }
      ]
    },
    {
      "cell_type": "code",
      "metadata": {
        "colab": {
          "base_uri": "https://localhost:8080/"
        },
        "id": "fQg012mj1JzW",
        "outputId": "31e926fa-2a49-4f4c-c1d5-167deeb884ca"
      },
      "source": [
        "serie_pokemon[1:100]"
      ],
      "execution_count": 6,
      "outputs": [
        {
          "output_type": "execute_result",
          "data": {
            "text/plain": [
              "1           Ivysaur\n",
              "2          Venusaur\n",
              "3     Mega Venusaur\n",
              "4        Charmander\n",
              "5        Charmeleon\n",
              "          ...      \n",
              "95           Grimer\n",
              "96              Muk\n",
              "97         Shellder\n",
              "98         Cloyster\n",
              "99           Gastly\n",
              "Name: Name, Length: 99, dtype: object"
            ]
          },
          "metadata": {
            "tags": []
          },
          "execution_count": 6
        }
      ]
    },
    {
      "cell_type": "code",
      "metadata": {
        "colab": {
          "base_uri": "https://localhost:8080/"
        },
        "id": "VXo7BWhJ5SMn",
        "outputId": "83551223-0ee4-421a-cf79-3370038e0562"
      },
      "source": [
        "print(serie_pokemon[69])"
      ],
      "execution_count": 12,
      "outputs": [
        {
          "output_type": "stream",
          "text": [
            "Kadabra\n"
          ],
          "name": "stdout"
        }
      ]
    },
    {
      "cell_type": "code",
      "metadata": {
        "id": "m9xQkt4M_TAV"
      },
      "source": [
        "nba = pd.read_csv('nba.csv')"
      ],
      "execution_count": 13,
      "outputs": []
    },
    {
      "cell_type": "code",
      "metadata": {
        "colab": {
          "base_uri": "https://localhost:8080/"
        },
        "id": "42QKZeun_kuv",
        "outputId": "66f9ee29-94f0-4a23-b98b-392a6f722799"
      },
      "source": [
        "nba.columns"
      ],
      "execution_count": 14,
      "outputs": [
        {
          "output_type": "execute_result",
          "data": {
            "text/plain": [
              "Index(['Player', 'height', 'weight', 'collage', 'born', 'birth_city',\n",
              "       'birth_state'],\n",
              "      dtype='object')"
            ]
          },
          "metadata": {
            "tags": []
          },
          "execution_count": 14
        }
      ]
    },
    {
      "cell_type": "code",
      "metadata": {
        "colab": {
          "base_uri": "https://localhost:8080/",
          "height": 343
        },
        "id": "g6gAFVjI_scK",
        "outputId": "a0a1f8da-7b16-4528-b7f4-1b8ecb498d1a"
      },
      "source": [
        "nba.head(10)"
      ],
      "execution_count": 15,
      "outputs": [
        {
          "output_type": "execute_result",
          "data": {
            "text/html": [
              "<div>\n",
              "<style scoped>\n",
              "    .dataframe tbody tr th:only-of-type {\n",
              "        vertical-align: middle;\n",
              "    }\n",
              "\n",
              "    .dataframe tbody tr th {\n",
              "        vertical-align: top;\n",
              "    }\n",
              "\n",
              "    .dataframe thead th {\n",
              "        text-align: right;\n",
              "    }\n",
              "</style>\n",
              "<table border=\"1\" class=\"dataframe\">\n",
              "  <thead>\n",
              "    <tr style=\"text-align: right;\">\n",
              "      <th></th>\n",
              "      <th>Player</th>\n",
              "      <th>height</th>\n",
              "      <th>weight</th>\n",
              "      <th>collage</th>\n",
              "      <th>born</th>\n",
              "      <th>birth_city</th>\n",
              "      <th>birth_state</th>\n",
              "    </tr>\n",
              "  </thead>\n",
              "  <tbody>\n",
              "    <tr>\n",
              "      <th>0</th>\n",
              "      <td>Curly Armstrong</td>\n",
              "      <td>180.0</td>\n",
              "      <td>77.0</td>\n",
              "      <td>Indiana University</td>\n",
              "      <td>1918.0</td>\n",
              "      <td>NaN</td>\n",
              "      <td>NaN</td>\n",
              "    </tr>\n",
              "    <tr>\n",
              "      <th>1</th>\n",
              "      <td>Cliff Barker</td>\n",
              "      <td>188.0</td>\n",
              "      <td>83.0</td>\n",
              "      <td>University of Kentucky</td>\n",
              "      <td>1921.0</td>\n",
              "      <td>Yorktown</td>\n",
              "      <td>Indiana</td>\n",
              "    </tr>\n",
              "    <tr>\n",
              "      <th>2</th>\n",
              "      <td>Leo Barnhorst</td>\n",
              "      <td>193.0</td>\n",
              "      <td>86.0</td>\n",
              "      <td>University of Notre Dame</td>\n",
              "      <td>1924.0</td>\n",
              "      <td>NaN</td>\n",
              "      <td>NaN</td>\n",
              "    </tr>\n",
              "    <tr>\n",
              "      <th>3</th>\n",
              "      <td>Ed Bartels</td>\n",
              "      <td>196.0</td>\n",
              "      <td>88.0</td>\n",
              "      <td>North Carolina State University</td>\n",
              "      <td>1925.0</td>\n",
              "      <td>NaN</td>\n",
              "      <td>NaN</td>\n",
              "    </tr>\n",
              "    <tr>\n",
              "      <th>4</th>\n",
              "      <td>Ralph Beard</td>\n",
              "      <td>178.0</td>\n",
              "      <td>79.0</td>\n",
              "      <td>University of Kentucky</td>\n",
              "      <td>1927.0</td>\n",
              "      <td>Hardinsburg</td>\n",
              "      <td>Kentucky</td>\n",
              "    </tr>\n",
              "    <tr>\n",
              "      <th>5</th>\n",
              "      <td>Gene Berce</td>\n",
              "      <td>180.0</td>\n",
              "      <td>79.0</td>\n",
              "      <td>Marquette University</td>\n",
              "      <td>1926.0</td>\n",
              "      <td>NaN</td>\n",
              "      <td>NaN</td>\n",
              "    </tr>\n",
              "    <tr>\n",
              "      <th>6</th>\n",
              "      <td>Charlie Black</td>\n",
              "      <td>196.0</td>\n",
              "      <td>90.0</td>\n",
              "      <td>University of Kansas</td>\n",
              "      <td>1921.0</td>\n",
              "      <td>Arco</td>\n",
              "      <td>Idaho</td>\n",
              "    </tr>\n",
              "    <tr>\n",
              "      <th>7</th>\n",
              "      <td>Nelson Bobb</td>\n",
              "      <td>183.0</td>\n",
              "      <td>77.0</td>\n",
              "      <td>Temple University</td>\n",
              "      <td>1924.0</td>\n",
              "      <td>Philadelphia</td>\n",
              "      <td>Pennsylvania</td>\n",
              "    </tr>\n",
              "    <tr>\n",
              "      <th>8</th>\n",
              "      <td>Jake Bornheimer</td>\n",
              "      <td>196.0</td>\n",
              "      <td>90.0</td>\n",
              "      <td>Muhlenberg College</td>\n",
              "      <td>1927.0</td>\n",
              "      <td>New Brunswick</td>\n",
              "      <td>New Jersey</td>\n",
              "    </tr>\n",
              "    <tr>\n",
              "      <th>9</th>\n",
              "      <td>Vince Boryla</td>\n",
              "      <td>196.0</td>\n",
              "      <td>95.0</td>\n",
              "      <td>University of Denver</td>\n",
              "      <td>1927.0</td>\n",
              "      <td>East Chicago</td>\n",
              "      <td>Indiana</td>\n",
              "    </tr>\n",
              "  </tbody>\n",
              "</table>\n",
              "</div>"
            ],
            "text/plain": [
              "            Player  height  weight  ...    born     birth_city   birth_state\n",
              "0  Curly Armstrong   180.0    77.0  ...  1918.0            NaN           NaN\n",
              "1     Cliff Barker   188.0    83.0  ...  1921.0       Yorktown       Indiana\n",
              "2    Leo Barnhorst   193.0    86.0  ...  1924.0            NaN           NaN\n",
              "3       Ed Bartels   196.0    88.0  ...  1925.0            NaN           NaN\n",
              "4      Ralph Beard   178.0    79.0  ...  1927.0    Hardinsburg      Kentucky\n",
              "5       Gene Berce   180.0    79.0  ...  1926.0            NaN           NaN\n",
              "6    Charlie Black   196.0    90.0  ...  1921.0           Arco         Idaho\n",
              "7      Nelson Bobb   183.0    77.0  ...  1924.0   Philadelphia  Pennsylvania\n",
              "8  Jake Bornheimer   196.0    90.0  ...  1927.0  New Brunswick    New Jersey\n",
              "9     Vince Boryla   196.0    95.0  ...  1927.0   East Chicago       Indiana\n",
              "\n",
              "[10 rows x 7 columns]"
            ]
          },
          "metadata": {
            "tags": []
          },
          "execution_count": 15
        }
      ]
    }
  ]
}