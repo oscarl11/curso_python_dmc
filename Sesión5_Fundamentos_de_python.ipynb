{
  "nbformat": 4,
  "nbformat_minor": 0,
  "metadata": {
    "colab": {
      "name": "Sesión5_Fundamentos_de_python.ipynb",
      "provenance": [],
      "authorship_tag": "ABX9TyOX8ybQtp8czShAWbmZgFr+",
      "include_colab_link": true
    },
    "kernelspec": {
      "name": "python3",
      "display_name": "Python 3"
    }
  },
  "cells": [
    {
      "cell_type": "markdown",
      "metadata": {
        "id": "view-in-github",
        "colab_type": "text"
      },
      "source": [
        "<a href=\"https://colab.research.google.com/github/oscarl11/curso_python_dmc/blob/main/Sesi%C3%B3n5_Fundamentos_de_python.ipynb\" target=\"_parent\"><img src=\"https://colab.research.google.com/assets/colab-badge.svg\" alt=\"Open In Colab\"/></a>"
      ]
    },
    {
      "cell_type": "code",
      "metadata": {
        "id": "vwIg7nFLNWld"
      },
      "source": [
        "import datetime as dt"
      ],
      "execution_count": 1,
      "outputs": []
    },
    {
      "cell_type": "code",
      "metadata": {
        "colab": {
          "base_uri": "https://localhost:8080/"
        },
        "id": "NENfze4_OIR9",
        "outputId": "60dedb15-62c2-40ba-bc0d-ceaa23b12c10"
      },
      "source": [
        "hora= dt.time(1)\n",
        "print(hora)"
      ],
      "execution_count": 2,
      "outputs": [
        {
          "output_type": "stream",
          "text": [
            "01:00:00\n"
          ],
          "name": "stdout"
        }
      ]
    },
    {
      "cell_type": "code",
      "metadata": {
        "colab": {
          "base_uri": "https://localhost:8080/"
        },
        "id": "CE9vTo_RPbdD",
        "outputId": "43a87949-b246-4b1b-9dfc-fe917b7ddf6e"
      },
      "source": [
        "hora= dt.time(1,second=10)\n",
        "print(hora)"
      ],
      "execution_count": 3,
      "outputs": [
        {
          "output_type": "stream",
          "text": [
            "01:00:10\n"
          ],
          "name": "stdout"
        }
      ]
    },
    {
      "cell_type": "code",
      "metadata": {
        "colab": {
          "base_uri": "https://localhost:8080/"
        },
        "id": "RGZw8vTBQaa1",
        "outputId": "8e9fc5c8-1061-439e-fbc2-cba7c6f74976"
      },
      "source": [
        "hora= dt.time(23,14,10)\n",
        "print(hora)"
      ],
      "execution_count": 4,
      "outputs": [
        {
          "output_type": "stream",
          "text": [
            "23:14:10\n"
          ],
          "name": "stdout"
        }
      ]
    },
    {
      "cell_type": "code",
      "metadata": {
        "colab": {
          "base_uri": "https://localhost:8080/"
        },
        "id": "p1d3CbhIQnvs",
        "outputId": "4295fe43-27e0-4413-98fd-b585a5451144"
      },
      "source": [
        "now = dt.datetime.now()\n",
        "print(now)\n"
      ],
      "execution_count": 5,
      "outputs": [
        {
          "output_type": "stream",
          "text": [
            "2020-11-21 19:21:44.182611\n"
          ],
          "name": "stdout"
        }
      ]
    },
    {
      "cell_type": "code",
      "metadata": {
        "colab": {
          "base_uri": "https://localhost:8080/"
        },
        "id": "7G5ZSQ18Sca6",
        "outputId": "5709e8b2-8398-477b-c981-d72e9f7b6694"
      },
      "source": [
        "fec_nac= dt.datetime(1996,7,12)\n",
        "edad = now.year - fec_nac.year\n",
        "print(edad)"
      ],
      "execution_count": 11,
      "outputs": [
        {
          "output_type": "stream",
          "text": [
            "24\n"
          ],
          "name": "stdout"
        }
      ]
    },
    {
      "cell_type": "code",
      "metadata": {
        "colab": {
          "base_uri": "https://localhost:8080/"
        },
        "id": "VPlMoxoOUx5b",
        "outputId": "1dac49d1-9a18-401f-a1d4-e673369a6642"
      },
      "source": [
        "str_date= \"07-18-1994\"\n",
        "str_date=dt.datetime.strptime(str_date,\"%m-%d-%Y\")\n",
        "print(str_date)\n"
      ],
      "execution_count": 12,
      "outputs": [
        {
          "output_type": "stream",
          "text": [
            "1994-07-18 00:00:00\n"
          ],
          "name": "stdout"
        }
      ]
    },
    {
      "cell_type": "code",
      "metadata": {
        "colab": {
          "base_uri": "https://localhost:8080/"
        },
        "id": "rmk8WBXKZRjB",
        "outputId": "a15c9b2d-5889-47af-e2f8-79147bed66f3"
      },
      "source": [
        "s1 =\"Fundamentos de programación en Python\"\n",
        "print (s1)"
      ],
      "execution_count": 18,
      "outputs": [
        {
          "output_type": "stream",
          "text": [
            "Fundamentos de programación en Python\n"
          ],
          "name": "stdout"
        }
      ]
    },
    {
      "cell_type": "code",
      "metadata": {
        "colab": {
          "base_uri": "https://localhost:8080/"
        },
        "id": "B-q99lKGZZE6",
        "outputId": "2e3c3f17-f1f9-412c-c4df-17750130eb78"
      },
      "source": [
        "\"Fundamentos\" in s1"
      ],
      "execution_count": 19,
      "outputs": [
        {
          "output_type": "execute_result",
          "data": {
            "text/plain": [
              "True"
            ]
          },
          "metadata": {
            "tags": []
          },
          "execution_count": 19
        }
      ]
    },
    {
      "cell_type": "code",
      "metadata": {
        "colab": {
          "base_uri": "https://localhost:8080/"
        },
        "id": "5Yjqut0iaT8r",
        "outputId": "e0605751-29f8-48ec-f4cc-4683e2c0e03e"
      },
      "source": [
        "busqueda = \"EN\"\n",
        "busqueda_en_minuscula= busqueda.lower()\n",
        "print (busqueda_en_minuscula)\n",
        "resultado_busqueda = busqueda_en_minuscula in s1.upper()\n",
        "print(resultado_busqueda)\n",
        "if resultado_busqueda:\n",
        "  print(\"Si existe\")\n",
        "else:\n",
        "    print(\"No existe\")"
      ],
      "execution_count": 22,
      "outputs": [
        {
          "output_type": "stream",
          "text": [
            "en\n",
            "False\n",
            "No existe\n"
          ],
          "name": "stdout"
        }
      ]
    },
    {
      "cell_type": "code",
      "metadata": {
        "colab": {
          "base_uri": "https://localhost:8080/"
        },
        "id": "pEx3DhFUd1SZ",
        "outputId": "a47e6f40-32fc-4bc7-c8eb-6b7e5c5de7a4"
      },
      "source": [
        "s2=\"Fundamentos de programación con Python\"\n",
        "print(s2)\n",
        "print(s2[1])\n",
        "print(s2[-1])\n",
        "print(s2[4:9])\n",
        "print(s2[::-1])\n",
        "\n",
        "str_date=\"09-12-1994\"\n",
        "dia =str_date[3:5]\n",
        "mes = str_date[0:2]\n",
        "año =str_date[6:10]\n",
        "print(dia)\n",
        "print(mes)\n",
        "print(año)"
      ],
      "execution_count": 30,
      "outputs": [
        {
          "output_type": "stream",
          "text": [
            "Fundamentos de programación con Python\n",
            "u\n",
            "n\n",
            "ament\n",
            "nohtyP noc nóicamargorp ed sotnemadnuF\n",
            "12\n",
            "09\n",
            "1994\n"
          ],
          "name": "stdout"
        }
      ]
    },
    {
      "cell_type": "code",
      "metadata": {
        "colab": {
          "base_uri": "https://localhost:8080/"
        },
        "id": "nGIy6je6k-PQ",
        "outputId": "36c99690-5d10-4ba3-d8bd-80d7aef2514c"
      },
      "source": [
        "def calculadora (num1,num2,operacion):\n",
        "  if (operacion == \"suma\"):\n",
        "    return num1 + num2\n",
        "  if (operacion == \"resta\"):\n",
        "    return num1 - num2\n",
        "  if (operacion == \"multiplicacion\"):\n",
        "    return num1 * num2\n",
        "  if (operacion==\"division\"):\n",
        "    return num1/num2\n",
        "calculadora(15,45,\"suma\")"
      ],
      "execution_count": 42,
      "outputs": [
        {
          "output_type": "execute_result",
          "data": {
            "text/plain": [
              "60"
            ]
          },
          "metadata": {
            "tags": []
          },
          "execution_count": 42
        }
      ]
    }
  ]
}